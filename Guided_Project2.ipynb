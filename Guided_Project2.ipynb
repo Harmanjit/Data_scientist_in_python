{
 "cells": [
  {
   "cell_type": "markdown",
   "id": "cf7f293f-0f68-469b-a923-e8eb6a86a938",
   "metadata": {},
   "source": [
    "# Second project formally learning Data Science \r\n",
    "\r\n",
    "This guided project brings the following skills together for some real-world practice:\r\n",
    "\r\n",
    "How to work with strings. \r\n",
    "\r\n",
    "Object-oriented programming. \r\n",
    "\r\n",
    "Dates and time.\r\n",
    "\r\n",
    "The dataset we are working with is downloaded from Hacker News from Y combinator. Kept in the raw folder P2 subfolder. \r\n",
    "Cleaned dataset is being used in the project and I will try to stick to the same and later on try out the full data set. \r\n",
    "\r\n",
    "The column ID mean the following: \r\n",
    "\r\n",
    "Below are descriptions of the columns:\r\n",
    "\r\n",
    "`id`: the unique identifier from Hacker News for the post\r\n",
    "\r\n",
    "`title`: the title of the post\r\n",
    "\r\n",
    "`url`: the URL that the posts links to, if the post has a URL\r\n",
    "\r\n",
    "`num_points`: the number of points the post acquired, calculated as the total number of upvotes minus the total number of downvotes\r\n",
    "\r\n",
    "`num_comments`: the number of comments on the post\r\n",
    "\r\n",
    "`author`: the username of the person who submitted the post\r\n",
    "\r\n",
    "`created_at`: the date and time of the post's submission\r\n",
    "the post's submission\r\n"
   ]
  },
  {
   "cell_type": "code",
   "execution_count": 1,
   "id": "9a5781a1-baa9-4919-8a41-6d1e7b91759c",
   "metadata": {},
   "outputs": [
    {
     "name": "stdout",
     "output_type": "stream",
     "text": [
      "['id', 'title', 'url', 'num_points', 'num_comments', 'author', 'created_at']\n",
      "[['12224879', 'Interactive Dynamic Video', 'http://www.interactivedynamicvideo.com/', '386', '52', 'ne0phyte', '8/4/2016 11:52'], ['10975351', 'How to Use Open Source and Shut the Fuck Up at the Same Time', 'http://hueniverse.com/2016/01/26/how-to-use-open-source-and-shut-the-fuck-up-at-the-same-time/', '39', '10', 'josep2', '1/26/2016 19:30'], ['11964716', \"Florida DJs May Face Felony for April Fools' Water Joke\", 'http://www.thewire.com/entertainment/2013/04/florida-djs-april-fools-water-joke/63798/', '2', '1', 'vezycash', '6/23/2016 22:20'], ['11919867', 'Technology ventures: From Idea to Enterprise', 'https://www.amazon.com/Technology-Ventures-Enterprise-Thomas-Byers/dp/0073523429', '3', '1', 'hswarna', '6/17/2016 0:01']]\n"
     ]
    }
   ],
   "source": [
    "from csv import reader\n",
    "# open file\n",
    "file_open = open('raw_data/P2/hacker_news.csv', encoding=\"utf8\")\n",
    "# read the opened files\n",
    "file_read = reader(file_open)\n",
    "# convert the opened files into lists that are useable\n",
    "hn = list(file_read)\n",
    "headers = hn[0]\n",
    "hn = hn[1:]\n",
    "print(headers)\n",
    "print(hn[0:4])\n"
   ]
  },
  {
   "cell_type": "markdown",
   "id": "f2ec85b0-a57f-4383-80d8-fb00f283c6fb",
   "metadata": {},
   "source": [
    "# Filter Data\n",
    "\n",
    "And glance at the data set to ensure the data is parsed as it is supposed to be. \n"
   ]
  },
  {
   "cell_type": "code",
   "execution_count": 11,
   "id": "95b4b3eb-6594-45ee-85be-45f98b3e6c07",
   "metadata": {},
   "outputs": [
    {
     "name": "stdout",
     "output_type": "stream",
     "text": [
      "1756\n",
      "1164\n",
      "18936\n"
     ]
    }
   ],
   "source": [
    "ask_post = []\n",
    "show_post = []\n",
    "other_post = []\n",
    "\n",
    "for row in hn:\n",
    "    title = row[1].lower()\n",
    "    if title.startswith('ask'):\n",
    "        ask_post.append(row)\n",
    "    if title.startswith('show'):\n",
    "        show_post.append(row)\n",
    "    else:\n",
    "        other_post.append(row)\n",
    "print(len(ask_post))\n",
    "print(len(show_post))\n",
    "print(len(other_post))"
   ]
  },
  {
   "cell_type": "markdown",
   "id": "20ce2f51-4253-4b28-8290-c363ce379348",
   "metadata": {},
   "source": [
    "# What kind of posts receive more comments on average\n",
    "\n",
    "## Objectives\n",
    "\n"
   ]
  },
  {
   "cell_type": "code",
   "execution_count": 17,
   "id": "a865bff1-de2e-47b2-83cb-1310903118f5",
   "metadata": {},
   "outputs": [
    {
     "name": "stdout",
     "output_type": "stream",
     "text": [
      "14.203302961275627\n",
      "10.323024054982818\n"
     ]
    }
   ],
   "source": [
    "total_ask_comments = 0\n",
    "\n",
    "for row in ask_post:\n",
    "    value = int(row[4])\n",
    "    total_ask_comments += value\n",
    "    \n",
    "avg_ask_comments = total_ask_comments/len(ask_post)\n",
    "\n",
    "print(avg_ask_comments)\n",
    "\n",
    "total_show_comments = 0\n",
    "\n",
    "for row in show_post:\n",
    "    value = int(row[4])\n",
    "    total_show_comments += value\n",
    "    \n",
    "avg_show_comments = total_show_comments/len(show_post)\n",
    "\n",
    "print(avg_show_comments)"
   ]
  },
  {
   "cell_type": "markdown",
   "id": "ec9f97c0-c174-424e-8be6-b524d37a9da2",
   "metadata": {},
   "source": [
    "Printing of the row 10472 along with a row above abd below indicates that there is an extra entry in the list at the end. Next, we remove it, instead of deleting the entire line. "
   ]
  },
  {
   "cell_type": "markdown",
   "id": "ee7d7622-1953-48b9-a994-653cc3925711",
   "metadata": {},
   "source": [
    "# Conclusion\n",
    "\n",
    "It turns out that the ask comments recieve more comments in general. about 4 comments more. \n",
    "\n",
    "People are more interested to help others, rather than looking at what others have to show. Of course, these are hasty generalizations, need to devise additional experiments to confirm. "
   ]
  },
  {
   "cell_type": "code",
   "execution_count": 28,
   "id": "4ddd7ccc-d1e4-4905-be05-df0f8dece9af",
   "metadata": {},
   "outputs": [
    {
     "name": "stdout",
     "output_type": "stream",
     "text": [
      "[['8/16/2016 9:55', 6], ['11/22/2015 13:43', 29], ['5/2/2016 10:14', 1]]\n",
      "{'09': 45, '13': 86, '10': 60, '14': 110, '16': 109, '23': 70, '12': 73, '17': 100, '15': 116, '21': 109, '20': 80, '02': 58, '18': 109, '03': 55, '05': 46, '19': 112, '01': 60, '22': 71, '08': 48, '04': 48, '00': 55, '06': 44, '07': 34, '11': 58} {'09': 251, '13': 1254, '10': 794, '14': 1420, '16': 1949, '23': 713, '12': 687, '17': 1146, '15': 4477, '21': 1745, '20': 1722, '02': 1381, '18': 1439, '03': 459, '05': 464, '19': 1295, '01': 683, '22': 479, '08': 492, '04': 339, '00': 447, '06': 397, '07': 267, '11': 641}\n"
     ]
    }
   ],
   "source": [
    "import datetime as dt\n",
    "\n",
    "result_list = []\n",
    "\n",
    "for row in ask_post:\n",
    "    result_list.append([row[6], int(row[4])])\n",
    "\n",
    "print(result_list[0:3])\n",
    "\n",
    "counts_by_hour = {}\n",
    "comments_by_hour = {}\n",
    "\n",
    "for row in result_list:\n",
    "    date = dt.datetime.strptime(row[0], \"%m/%d/%Y %H:%M\")\n",
    "    hour = date.strftime(\"%H\")\n",
    "    if hour in counts_by_hour:\n",
    "        counts_by_hour[hour] +=1\n",
    "        comments_by_hour[hour] += row[1]\n",
    "    else:\n",
    "        counts_by_hour[hour] =1\n",
    "        comments_by_hour[hour] = row[1]\n",
    "\n",
    "print(counts_by_hour, comments_by_hour)\n"
   ]
  },
  {
   "cell_type": "markdown",
   "id": "416ba66e-d226-41f6-8afd-f9d3567ffd0c",
   "metadata": {},
   "source": [
    "# Calculating the Average Number of Comments for Ask HN Posts by Hour\n"
   ]
  },
  {
   "cell_type": "code",
   "execution_count": 32,
   "id": "97aa368e-4866-42cf-bd98-3d82f7af3352",
   "metadata": {},
   "outputs": [
    {
     "name": "stdout",
     "output_type": "stream",
     "text": [
      "[['09', 5.5777777777777775], ['13', 14.581395348837209], ['10', 13.233333333333333], ['14', 12.909090909090908], ['16', 17.880733944954127], ['23', 10.185714285714285], ['12', 9.41095890410959], ['17', 11.46], ['15', 38.5948275862069], ['21', 16.009174311926607], ['20', 21.525], ['02', 23.810344827586206], ['18', 13.20183486238532], ['03', 8.345454545454546], ['05', 10.08695652173913], ['19', 11.5625], ['01', 11.383333333333333], ['22', 6.746478873239437], ['08', 10.25], ['04', 7.0625], ['00', 8.127272727272727], ['06', 9.022727272727273], ['07', 7.852941176470588], ['11', 11.051724137931034]]\n"
     ]
    }
   ],
   "source": [
    "avg_by_hour = []\n",
    "\n",
    "for value in comments_by_hour:\n",
    "    if value in counts_by_hour:\n",
    "        avg_by_hour.append([value, comments_by_hour[value]/counts_by_hour[value]])\n",
    "        \n",
    "print(avg_by_hour)"
   ]
  },
  {
   "cell_type": "markdown",
   "id": "c9c2b7cd-3fc4-4de1-ae76-5a4fc5369ae3",
   "metadata": {},
   "source": [
    "# Sorting and Printing Values from a List of Lists"
   ]
  },
  {
   "cell_type": "code",
   "execution_count": 39,
   "id": "3738b762-43d0-479c-a7e6-5e5812ac378e",
   "metadata": {},
   "outputs": [
    {
     "name": "stdout",
     "output_type": "stream",
     "text": [
      "[[38.5948275862069, '15'], [23.810344827586206, '02'], [21.525, '20'], [17.880733944954127, '16'], [16.009174311926607, '21']]\n"
     ]
    }
   ],
   "source": [
    "swap_avg_by_hour = []\n",
    "\n",
    "for row in avg_by_hour:\n",
    "    swap_avg_by_hour.append([row[1], row[0]])\n",
    "\n",
    "# print(swap_avg_by_hour)\n",
    "\n",
    "sorted_swap = sorted(swap_avg_by_hour, reverse = True)\n",
    "print(sorted_swap[0:5])\n"
   ]
  },
  {
   "cell_type": "code",
   "execution_count": 52,
   "id": "c2ea7a2c-4e04-40a4-b483-562cbe14c423",
   "metadata": {},
   "outputs": [
    {
     "name": "stdout",
     "output_type": "stream",
     "text": [
      "15:00 38.59 average comments per post\n",
      "02:00 23.81 average comments per post\n",
      "20:00 21.52 average comments per post\n",
      "16:00 17.88 average comments per post\n",
      "21:00 16.01 average comments per post\n",
      "13:00 14.58 average comments per post\n",
      "10:00 13.23 average comments per post\n",
      "18:00 13.20 average comments per post\n",
      "14:00 12.91 average comments per post\n",
      "19:00 11.56 average comments per post\n",
      "17:00 11.46 average comments per post\n",
      "01:00 11.38 average comments per post\n",
      "11:00 11.05 average comments per post\n",
      "08:00 10.25 average comments per post\n",
      "23:00 10.19 average comments per post\n",
      "05:00 10.09 average comments per post\n",
      "12:00 9.41 average comments per post\n",
      "06:00 9.02 average comments per post\n",
      "03:00 8.35 average comments per post\n",
      "00:00 8.13 average comments per post\n",
      "07:00 7.85 average comments per post\n",
      "04:00 7.06 average comments per post\n",
      "22:00 6.75 average comments per post\n",
      "09:00 5.58 average comments per post\n"
     ]
    }
   ],
   "source": [
    "for row in sorted_swap:\n",
    "    time = dt.datetime.strptime(row[1], \"%H\")\n",
    "    time = dt.datetime.strftime(time, \"%H:%M\")\n",
    "    print(time, format(row[0], \".2f\"), \"average comments per post\")"
   ]
  }
 ],
 "metadata": {
  "kernelspec": {
   "display_name": "Python 3 (ipykernel)",
   "language": "python",
   "name": "python3"
  },
  "language_info": {
   "codemirror_mode": {
    "name": "ipython",
    "version": 3
   },
   "file_extension": ".py",
   "mimetype": "text/x-python",
   "name": "python",
   "nbconvert_exporter": "python",
   "pygments_lexer": "ipython3",
   "version": "3.11.7"
  }
 },
 "nbformat": 4,
 "nbformat_minor": 5
}
