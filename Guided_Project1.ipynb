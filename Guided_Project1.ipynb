{
 "cells": [
  {
   "cell_type": "markdown",
   "id": "22199f4c-b1ca-499a-b738-da954cf380f9",
   "metadata": {},
   "source": [
    "# First file for learning Jupyter\n",
    "This is the first local file that I made to learn how to work iwth jupyter. "
   ]
  },
  {
   "cell_type": "code",
   "execution_count": null,
   "id": "9a5781a1-baa9-4919-8a41-6d1e7b91759c",
   "metadata": {},
   "outputs": [],
   "source": [
    "from csv import reader\n",
    "# open files\n",
    "google_store_link, apple_store_link = (open('raw_data/googleplaystore.csv', encoding=\"utf8\"),\n",
    "                                       open('raw_data/AppleStore.csv', encoding=\"utf8\"))\n",
    "# read the opened files\n",
    "google_store, apple_store = (reader(google_store_link), \n",
    "                             reader(apple_store_link))\n",
    "# convert the opened files into lists that are useable\n",
    "apps_g, apps_a = (list(google_store), \n",
    "                  list(apple_store))\n",
    "# extract data\n",
    "apps_google, apps_apple = (apps_g[1:], \n",
    "                           apps_a[1:])\n",
    "# extract header\n",
    "header_google, header_apple = (apps_g[0], \n",
    "                               apps_a[0])\n"
   ]
  },
  {
   "cell_type": "markdown",
   "id": "f2ec85b0-a57f-4383-80d8-fb00f283c6fb",
   "metadata": {},
   "source": [
    "# Write an explore function\n",
    "\n",
    "And glance at the data set to ensure the data is parsed as it is supposed to be. \n"
   ]
  },
  {
   "cell_type": "code",
   "execution_count": null,
   "id": "95b4b3eb-6594-45ee-85be-45f98b3e6c07",
   "metadata": {},
   "outputs": [],
   "source": [
    "def explore_data(dataset, start, end, rows_and_columns=False):\n",
    "    dataset_slice = dataset[start:end]    \n",
    "    for row in dataset_slice:\n",
    "        print(row)\n",
    "        print('\\n') # adds a new (empty) line after each row\n",
    "\n",
    "    if rows_and_columns:\n",
    "        print('Number of rows:', len(dataset))\n",
    "        print('Number of columns:', len(dataset[0]))\n",
    "        \n",
    "explore_data(apps_google, 0, 3, True)\n",
    "print(\"\\n\")\n",
    "explore_data(apps_apple, 0, 3, True)"
   ]
  },
  {
   "cell_type": "markdown",
   "id": "20ce2f51-4253-4b28-8290-c363ce379348",
   "metadata": {},
   "source": [
    "# Data cleaning\n",
    "\n",
    "## Objectives\n",
    "\n",
    "1. Only retain apps that are free\n",
    "2. Remove non-english apps\n"
   ]
  },
  {
   "cell_type": "code",
   "execution_count": null,
   "id": "a865bff1-de2e-47b2-83cb-1310903118f5",
   "metadata": {},
   "outputs": [],
   "source": [
    "print(apps_google[10471:10474])"
   ]
  },
  {
   "cell_type": "markdown",
   "id": "ec9f97c0-c174-424e-8be6-b524d37a9da2",
   "metadata": {},
   "source": [
    "Printing of the row 10472 along with a row above abd below indicates that there is an extra entry in the list at the end. Next, we remove it, instead of deleting the entire line. "
   ]
  },
  {
   "cell_type": "code",
   "execution_count": null,
   "id": "6cb4dc79-fbe7-43c4-b8a0-9926d8f79740",
   "metadata": {},
   "outputs": [],
   "source": [
    "if len(apps_google[10472]) == 13:\n",
    "    del apps_google[10472]"
   ]
  },
  {
   "cell_type": "code",
   "execution_count": null,
   "id": "4ddd7ccc-d1e4-4905-be05-df0f8dece9af",
   "metadata": {},
   "outputs": [],
   "source": [
    "print(apps_google[10471:10474])"
   ]
  },
  {
   "cell_type": "markdown",
   "id": "416ba66e-d226-41f6-8afd-f9d3567ffd0c",
   "metadata": {},
   "source": [
    "# Removed duplicate app entries\n",
    "\n",
    "If we examine the rows main difference happens on the fourth position of each row, which corresponds to the number of reviews. The different numbers show the data was collected at different times. We ce can use this information to build a criterion for removing the duplicates. The higher the number of reviews, the more recent the data should be. Rather than removing duplicates randomly, we'll only keep the row with the highest number of reviews and remove the other entries for any given a\n",
    "pp."
   ]
  },
  {
   "cell_type": "code",
   "execution_count": null,
   "id": "97aa368e-4866-42cf-bd98-3d82f7af3352",
   "metadata": {},
   "outputs": [],
   "source": [
    "duplicate_apps = []\n",
    "unique_apps = []\n",
    "\n",
    "for row in apps_google:\n",
    "    name = row[0]\n",
    "    if name in unique_apps:\n",
    "        duplicate_apps.append(name)\n",
    "    else:\n",
    "        unique_apps.append(name)\n",
    "    \n",
    "print('Number of duplicate apps:', len(duplicate_apps))\n",
    "print('\\n')\n",
    "print('Examples of duplicate apps:', duplicate_apps[:15])"
   ]
  },
  {
   "cell_type": "code",
   "execution_count": null,
   "id": "7df4d20d-da4c-432b-a7f9-8ee7970e73f6",
   "metadata": {},
   "outputs": [],
   "source": [
    "print(\"The header of the google dataset is: \", header_google)\n",
    "print(\"The header of the apple dataset is: \", header_apple)"
   ]
  },
  {
   "cell_type": "markdown",
   "id": "ae3aaea5-4201-4340-aa6a-b1bb74694b50",
   "metadata": {},
   "source": [
    "Create a dictionary that has all the unique app names as the keys and the ratings as the values associated with those keys. \n",
    "\n",
    "This dictionary will help us remove the duplicate data in next cell. "
   ]
  },
  {
   "cell_type": "code",
   "execution_count": null,
   "id": "3738b762-43d0-479c-a7e6-5e5812ac378e",
   "metadata": {},
   "outputs": [],
   "source": [
    "reviews_max = {}\n",
    "\n",
    "for row in apps_google:\n",
    "    name = row[0]\n",
    "    n_reviews = float(row[3])\n",
    "\n",
    "    if name in reviews_max and reviews_max[name] < n_reviews:\n",
    "        reviews_max[name] = n_reviews\n",
    "    if name not in reviews_max:\n",
    "        reviews_max[name] = n_reviews\n",
    "print(len(reviews_max))\n",
    "\n",
    "        "
   ]
  },
  {
   "cell_type": "markdown",
   "id": "7149e3e7-506a-4f3d-98a2-b7cad4ec1c35",
   "metadata": {},
   "source": [
    "Next cell we select only the rows that contain the data values tha match tha values in the dictionary. "
   ]
  },
  {
   "cell_type": "code",
   "execution_count": null,
   "id": "8fe8aa40-fcd8-40c9-9ff1-52d99b8dddf4",
   "metadata": {},
   "outputs": [],
   "source": [
    "google_clean = []\n",
    "already_added = []\n",
    "\n",
    "for row in apps_google:\n",
    "    name = row[0]\n",
    "    n_reviews = float(row[3])\n",
    "    if n_reviews == reviews_max[name] and name not in already_added:\n",
    "        google_clean.append(row)\n",
    "        already_added.append(name)\n",
    "explore_data(google_clean, 0, 3, True)"
   ]
  },
  {
   "cell_type": "markdown",
   "id": "47adb501-a508-4c35-aa84-7bf5cb17b6a8",
   "metadata": {},
   "source": [
    "# Removed non-English apps\n",
    "\n",
    "The following code cell makes a function to test if the app name has at least 3 instances of  ASCII characters less than  or equal to 127. Everything else is non typical character. "
   ]
  },
  {
   "cell_type": "code",
   "execution_count": null,
   "id": "71bfc3e6-91c1-4e43-b43f-ee8c640abd84",
   "metadata": {},
   "outputs": [],
   "source": [
    "def acs_127(input_string):\n",
    "    counter = 0\n",
    "    for character in input_string:\n",
    "        if ord(character) > 127:\n",
    "            counter += 1\n",
    "    if counter > 3:\n",
    "        return False\n",
    "    else:\n",
    "            return True"
   ]
  },
  {
   "cell_type": "code",
   "execution_count": null,
   "id": "bc0cdc90-86e2-42d1-b51a-bf8e43e0b8ac",
   "metadata": {},
   "outputs": [],
   "source": [
    "print(acs_127(apps_apple[814][1]))\n",
    "\n",
    "print(acs_127('Instagram'))\n",
    "print(acs_127('爱奇艺PPS -《欢乐颂2》电视剧热播'))\n",
    "print(acs_127('Docs To Go™ Free Office Suite'))\n",
    "print(acs_127('Instachat 😜'))"
   ]
  },
  {
   "cell_type": "code",
   "execution_count": null,
   "id": "bcb85807-67c8-43c7-9bee-5aca5766e631",
   "metadata": {},
   "outputs": [],
   "source": [
    "apps_apple_eng = []\n",
    "apps_google_eng = []\n",
    "\n",
    "for row in apps_apple:\n",
    "    app_name = row[0]\n",
    "    if acs_127(app_name):\n",
    "        apps_apple_eng.append(row)\n",
    "\n",
    "for row in google_clean:\n",
    "    app_name = row[0]\n",
    "    if acs_127(app_name):\n",
    "        apps_google_eng.append(row)\n",
    "\n",
    "explore_data(apps_apple_eng, 0, 3, True)\n",
    "\n",
    "explore_data(apps_google_eng, 0, 3, True)"
   ]
  },
  {
   "cell_type": "markdown",
   "id": "92b52115-10cf-4924-b308-5692ace323b7",
   "metadata": {},
   "source": [
    "# Filter free apps"
   ]
  },
  {
   "cell_type": "code",
   "execution_count": null,
   "id": "e6eb43b9-bb40-4f3f-8bdd-3b325aaddef2",
   "metadata": {},
   "outputs": [],
   "source": [
    "apps_apple_eng_free = []\n",
    "apps_google_eng_free = []\n",
    "\n",
    "for row in apps_apple_eng:\n",
    "    price = row[4]\n",
    "    if price == \"0\":\n",
    "        apps_apple_eng_free.append(row)\n",
    "\n",
    "for row in apps_google_eng:\n",
    "    price = row[7]\n",
    "    if price == \"0\":\n",
    "        apps_google_eng_free.append(row)\n",
    "\n",
    "explore_data(apps_apple_eng_free, 0, 0, True)\n",
    "\n",
    "explore_data(apps_google_eng_free, 0, 0, True)"
   ]
  },
  {
   "cell_type": "markdown",
   "id": "0f0d0ec3-459c-471e-af40-dd84fecd2fb1",
   "metadata": {},
   "source": [
    "# Most common apps by genre\n",
    "Our goal is to determine the kinds of apps that are likely to attract more users because the number of people using our apps affect our revenue.\r\n",
    "\r\n",
    "To minimize risks and overhead, our validation strategy for an app idea has three steps:1. \r\n",
    "\r\n",
    "Build a minimal Android version of the app, and add it to Google Pl2. ay.\r\n",
    "If the app has a good response from users, we develop it furt3. her.\r\n",
    "If the app is profitable after six months, we build an iOS version of the app and add it to the App \n",
    "\n",
    "tore.\r\n",
    "Because our end goal is to add the app on both Google Play and the App Store, we need to find app profiles that are successful in both markets. For instance, a profile that works well for both markets might be a productivity app that makes use of gamification."
   ]
  },
  {
   "cell_type": "code",
   "execution_count": null,
   "id": "2bac65f4-7975-4331-8964-278bff6780e1",
   "metadata": {},
   "outputs": [],
   "source": [
    "def freq_table(df, index):\n",
    "    table = {}\n",
    "    total = 0\n",
    "    \n",
    "    for row in df:\n",
    "        total += 1\n",
    "        value = row[index]\n",
    "        if value in table:\n",
    "            table[value] += 1\n",
    "        else:\n",
    "            table[value] = 1\n",
    "    \n",
    "    table_percentages = {}\n",
    "    for key in table:\n",
    "        percentage = (table[key] / total) * 100\n",
    "        table_percentages[key] = percentage \n",
    "    \n",
    "    return table_percentages\n",
    "\n",
    "\n",
    "apple_app_category = freq_table(apps_apple_eng_free, 11)\n",
    "google_app_category = freq_table(apps_google_eng_free, 1)\n",
    "\n",
    "print(apple_app_category)\n",
    "print(google_app_category)"
   ]
  },
  {
   "cell_type": "code",
   "execution_count": null,
   "id": "5a3be224-365f-435d-80da-d70de90a0eff",
   "metadata": {},
   "outputs": [],
   "source": [
    "def display_table(df, index):\n",
    "    table = freq_table(df, index)\n",
    "    table_display = []\n",
    "    for key in table:\n",
    "        key_val_as_tuple = (table[key], key)\n",
    "        table_display.append(key_val_as_tuple)\n",
    "        \n",
    "    table_sorted = sorted(table_display, reverse = True)\n",
    "    for entry in table_sorted:\n",
    "        print(entry[1], ':', entry[0])\n",
    "\n",
    "display_table(apps_apple_eng_free, 11)\n",
    "print(\"\\n\")\n",
    "display_table(apps_google_eng_free, 1)\n",
    "print(\"\\n\")\n",
    "display_table(apps_google_eng_free, -4)"
   ]
  },
  {
   "cell_type": "markdown",
   "id": "fa87aabc-ab2f-44b1-aa32-80080dde44c2",
   "metadata": {},
   "source": [
    "# Most Popular Apps by Genre on the App Store\n"
   ]
  },
  {
   "cell_type": "code",
   "execution_count": null,
   "id": "e84c52a0-1051-4113-af74-0cee3d174d84",
   "metadata": {},
   "outputs": [],
   "source": [
    "for genre in apple_app_category:\n",
    "    total = 0 \n",
    "    len_genre = 0\n",
    "    for row in apps_apple_eng_free:\n",
    "        genre_app = row[11]\n",
    "        if genre_app == genre:\n",
    "            user_rating = row[5]\n",
    "            total += float(user_rating)\n",
    "            len_genre += 1\n",
    "    average_user_rating = total / len_genre\n",
    "    print(genre, total, \" : \", average_user_rating)"
   ]
  },
  {
   "cell_type": "markdown",
   "id": "08584939-7cfe-4a0e-9904-d5cdd72dd979",
   "metadata": {},
   "source": [
    "Profile recommendation will require us to sort this data. WIll tackle later. "
   ]
  },
  {
   "cell_type": "code",
   "execution_count": null,
   "id": "2607524e-e5a5-4dd1-8e9a-298c5e37dec6",
   "metadata": {},
   "outputs": [],
   "source": [
    "print(header_google)\n"
   ]
  },
  {
   "cell_type": "code",
   "execution_count": null,
   "id": "b951862c-28f0-4c14-a911-43e2df9ca18d",
   "metadata": {},
   "outputs": [],
   "source": [
    "# print(display_table(apps_google_eng_free, 1))\n",
    "google_category_installs = {}\n",
    "for category in google_app_category:\n",
    "    total = 0\n",
    "    len_category = 0\n",
    "    \n",
    "    for row in apps_google_eng_free:\n",
    "        category_app = row[1]\n",
    "        if category_app == category:\n",
    "            installs = row[5]\n",
    "            installs = installs.replace(\"+\", \"\")\n",
    "            installs = installs.replace(\",\", \"\")\n",
    "            installs = float(installs)\n",
    "            total += installs\n",
    "            len_category += 1\n",
    "\n",
    "    avg_installs = total / len_category\n",
    "    google_category_installs[category] = avg_installs\n",
    "print(google_category_installs)\n",
    "           "
   ]
  },
  {
   "cell_type": "code",
   "execution_count": null,
   "id": "6019fab7-12c8-4608-8b2c-72c5cc748631",
   "metadata": {},
   "outputs": [],
   "source": []
  },
  {
   "cell_type": "code",
   "execution_count": null,
   "id": "4cb3975e-14fc-4086-8390-16662048be83",
   "metadata": {},
   "outputs": [],
   "source": []
  }
 ],
 "metadata": {
  "kernelspec": {
   "display_name": "Python 3 (ipykernel)",
   "language": "python",
   "name": "python3"
  },
  "language_info": {
   "codemirror_mode": {
    "name": "ipython",
    "version": 3
   },
   "file_extension": ".py",
   "mimetype": "text/x-python",
   "name": "python",
   "nbconvert_exporter": "python",
   "pygments_lexer": "ipython3",
   "version": "3.12.7"
  }
 },
 "nbformat": 4,
 "nbformat_minor": 5
}
