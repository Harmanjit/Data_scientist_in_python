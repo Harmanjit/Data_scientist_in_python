{
 "cells": [
  {
   "cell_type": "markdown",
   "id": "22199f4c-b1ca-499a-b738-da954cf380f9",
   "metadata": {},
   "source": [
    "# First file for learning Jupyter\n",
    "This is the first local file that I made to learn how to work iwth jupyter. "
   ]
  },
  {
   "cell_type": "code",
   "execution_count": 1,
   "id": "9a5781a1-baa9-4919-8a41-6d1e7b91759c",
   "metadata": {},
   "outputs": [],
   "source": [
    "from csv import reader\n",
    "# open files\n",
    "google_store_link, apple_store_link = (open('raw_data/googleplaystore.csv', encoding=\"utf8\"),\n",
    "                                       open('raw_data/AppleStore.csv', encoding=\"utf8\"))\n",
    "# read the opened files\n",
    "google_store, apple_store = (reader(google_store_link), \n",
    "                             reader(apple_store_link))\n",
    "# convert the opened files into lists that are useable\n",
    "apps_g, apps_a = (list(google_store), \n",
    "                  list(apple_store))\n",
    "# extract data\n",
    "apps_google, apps_apple = (apps_g[1:], \n",
    "                           apps_a[1:])\n",
    "# extract header\n",
    "header_google, header_apple = (apps_g[0], \n",
    "                               apps_a[0])\n"
   ]
  },
  {
   "cell_type": "markdown",
   "id": "f2ec85b0-a57f-4383-80d8-fb00f283c6fb",
   "metadata": {},
   "source": [
    "# Write an explore function\n",
    "\n",
    "And glance at the data set to ensure the data is parsed as it is supposed to be. \n"
   ]
  },
  {
   "cell_type": "code",
   "execution_count": 2,
   "id": "95b4b3eb-6594-45ee-85be-45f98b3e6c07",
   "metadata": {},
   "outputs": [
    {
     "name": "stdout",
     "output_type": "stream",
     "text": [
      "['Photo Editor & Candy Camera & Grid & ScrapBook', 'ART_AND_DESIGN', '4.1', '159', '19M', '10,000+', 'Free', '0', 'Everyone', 'Art & Design', '7-Jan-18', '1.0.0', '4.0.3 and up']\n",
      "\n",
      "\n",
      "['Coloring book moana', 'ART_AND_DESIGN', '3.9', '967', '14M', '500,000+', 'Free', '0', 'Everyone', 'Art & Design;Pretend Play', '15-Jan-18', '2.0.0', '4.0.3 and up']\n",
      "\n",
      "\n",
      "['U Launcher Lite – FREE Live Cool Themes, Hide Apps', 'ART_AND_DESIGN', '4.7', '87510', '8.7M', '5,000,000+', 'Free', '0', 'Everyone', 'Art & Design', '1-Aug-18', '1.2.4', '4.0.3 and up']\n",
      "\n",
      "\n",
      "Number of rows: 10841\n",
      "Number of columns: 13\n",
      "\n",
      "\n",
      "['284882215', 'Facebook', '389879808', 'USD', '0', '2974676', '212', '3.5', '3.5', '95', '4+', 'Social Networking', '37', '1', '29', '1']\n",
      "\n",
      "\n",
      "['389801252', 'Instagram', '113954816', 'USD', '0', '2161558', '1289', '4.5', '4', '10.23', '12+', 'Photo & Video', '37', '0', '29', '1']\n",
      "\n",
      "\n",
      "['529479190', 'Clash of Clans', '116476928', 'USD', '0', '2130805', '579', '4.5', '4.5', '9.24.12', '9+', 'Games', '38', '5', '18', '1']\n",
      "\n",
      "\n",
      "Number of rows: 7197\n",
      "Number of columns: 16\n"
     ]
    }
   ],
   "source": [
    "def explore_data(dataset, start, end, rows_and_columns=False):\n",
    "    dataset_slice = dataset[start:end]    \n",
    "    for row in dataset_slice:\n",
    "        print(row)\n",
    "        print('\\n') # adds a new (empty) line after each row\n",
    "\n",
    "    if rows_and_columns:\n",
    "        print('Number of rows:', len(dataset))\n",
    "        print('Number of columns:', len(dataset[0]))\n",
    "        \n",
    "explore_data(apps_google, 0, 3, True)\n",
    "print(\"\\n\")\n",
    "explore_data(apps_apple, 0, 3, True)"
   ]
  },
  {
   "cell_type": "markdown",
   "id": "20ce2f51-4253-4b28-8290-c363ce379348",
   "metadata": {},
   "source": [
    "# Data cleaning\n",
    "\n",
    "## Objectives\n",
    "\n",
    "1. Only retain apps that are free\n",
    "2. Remove non-english apps\n"
   ]
  },
  {
   "cell_type": "code",
   "execution_count": 3,
   "id": "a865bff1-de2e-47b2-83cb-1310903118f5",
   "metadata": {},
   "outputs": [
    {
     "name": "stdout",
     "output_type": "stream",
     "text": [
      "[['Xposed Wi-Fi-Pwd', 'PERSONALIZATION', '3.5', '1042', '404k', '100,000+', 'Free', '0', 'Everyone', 'Personalization', '5-Aug-14', '3.0.0', '4.0.3 and up'], ['Life Made WI-Fi Touchscreen Photo Frame', '1.9', '19', '3.0M', '1,000+', 'Free', '0', 'Everyone', '', '11-Feb-18', '1.0.19', '4.0 and up', ''], ['osmino Wi-Fi: free WiFi', 'TOOLS', '4.2', '134203', '4.1M', '10,000,000+', 'Free', '0', 'Everyone', 'Tools', '7-Aug-18', '6.06.14', '4.4 and up']]\n"
     ]
    }
   ],
   "source": [
    "print(apps_google[10471:10474])"
   ]
  },
  {
   "cell_type": "markdown",
   "id": "ec9f97c0-c174-424e-8be6-b524d37a9da2",
   "metadata": {},
   "source": [
    "Printing of the row 10472 along with a row above abd below indicates that there is an extra entry in the list at the end. Next, we remove it, instead of deleting the entire line. "
   ]
  },
  {
   "cell_type": "code",
   "execution_count": 4,
   "id": "6cb4dc79-fbe7-43c4-b8a0-9926d8f79740",
   "metadata": {},
   "outputs": [],
   "source": [
    "if len(apps_google[10472]) == 13:\n",
    "    del apps_google[10472]"
   ]
  },
  {
   "cell_type": "code",
   "execution_count": 5,
   "id": "4ddd7ccc-d1e4-4905-be05-df0f8dece9af",
   "metadata": {},
   "outputs": [
    {
     "name": "stdout",
     "output_type": "stream",
     "text": [
      "[['Xposed Wi-Fi-Pwd', 'PERSONALIZATION', '3.5', '1042', '404k', '100,000+', 'Free', '0', 'Everyone', 'Personalization', '5-Aug-14', '3.0.0', '4.0.3 and up'], ['osmino Wi-Fi: free WiFi', 'TOOLS', '4.2', '134203', '4.1M', '10,000,000+', 'Free', '0', 'Everyone', 'Tools', '7-Aug-18', '6.06.14', '4.4 and up'], ['Sat-Fi Voice', 'COMMUNICATION', '3.4', '37', '14M', '1,000+', 'Free', '0', 'Everyone', 'Communication', '21-Nov-14', '2.2.1.5', '2.2 and up']]\n"
     ]
    }
   ],
   "source": [
    "print(apps_google[10471:10474])"
   ]
  },
  {
   "cell_type": "markdown",
   "id": "416ba66e-d226-41f6-8afd-f9d3567ffd0c",
   "metadata": {},
   "source": [
    "# Removed duplicate app entries\n",
    "\n",
    "If we examine the rows main difference happens on the fourth position of each row, which corresponds to the number of reviews. The different numbers show the data was collected at different times. We ce can use this information to build a criterion for removing the duplicates. The higher the number of reviews, the more recent the data should be. Rather than removing duplicates randomly, we'll only keep the row with the highest number of reviews and remove the other entries for any given a\n",
    "pp."
   ]
  },
  {
   "cell_type": "code",
   "execution_count": 6,
   "id": "97aa368e-4866-42cf-bd98-3d82f7af3352",
   "metadata": {},
   "outputs": [
    {
     "name": "stdout",
     "output_type": "stream",
     "text": [
      "Number of duplicate apps: 1181\n",
      "\n",
      "\n",
      "Examples of duplicate apps: ['Quick PDF Scanner + OCR FREE', 'Box', 'Google My Business', 'ZOOM Cloud Meetings', 'join.me - Simple Meetings', 'Box', 'Zenefits', 'Google Ads', 'Google My Business', 'Slack', 'FreshBooks Classic', 'Insightly CRM', 'QuickBooks Accounting: Invoicing & Expenses', 'HipChat - Chat Built for Teams', 'Xero Accounting Software']\n"
     ]
    }
   ],
   "source": [
    "duplicate_apps = []\n",
    "unique_apps = []\n",
    "\n",
    "for row in apps_google:\n",
    "    name = row[0]\n",
    "    if name in unique_apps:\n",
    "        duplicate_apps.append(name)\n",
    "    else:\n",
    "        unique_apps.append(name)\n",
    "    \n",
    "print('Number of duplicate apps:', len(duplicate_apps))\n",
    "print('\\n')\n",
    "print('Examples of duplicate apps:', duplicate_apps[:15])"
   ]
  },
  {
   "cell_type": "code",
   "execution_count": 7,
   "id": "7df4d20d-da4c-432b-a7f9-8ee7970e73f6",
   "metadata": {},
   "outputs": [
    {
     "name": "stdout",
     "output_type": "stream",
     "text": [
      "The header of the google dataset is:  ['App', 'Category', 'Rating', 'Reviews', 'Size', 'Installs', 'Type', 'Price', 'Content Rating', 'Genres', 'Last Updated', 'Current Ver', 'Android Ver']\n",
      "The header of the apple dataset is:  ['id', 'track_name', 'size_bytes', 'currency', 'price', 'rating_count_tot', 'rating_count_ver', 'user_rating', 'user_rating_ver', 'ver', 'cont_rating', 'prime_genre', 'sup_devices.num', 'ipadSc_urls.num', 'lang.num', 'vpp_lic']\n"
     ]
    }
   ],
   "source": [
    "print(\"The header of the google dataset is: \", header_google)\n",
    "print(\"The header of the apple dataset is: \", header_apple)"
   ]
  },
  {
   "cell_type": "markdown",
   "id": "ae3aaea5-4201-4340-aa6a-b1bb74694b50",
   "metadata": {},
   "source": [
    "Create a dictionary that has all the unique app names as the keys and the ratings as the values associated with those keys. \n",
    "\n",
    "This dictionary will help us remove the duplicate data in next cell. "
   ]
  },
  {
   "cell_type": "code",
   "execution_count": 8,
   "id": "3738b762-43d0-479c-a7e6-5e5812ac378e",
   "metadata": {},
   "outputs": [
    {
     "name": "stdout",
     "output_type": "stream",
     "text": [
      "9659\n"
     ]
    }
   ],
   "source": [
    "reviews_max = {}\n",
    "\n",
    "for row in apps_google:\n",
    "    name = row[0]\n",
    "    n_reviews = float(row[3])\n",
    "\n",
    "    if name in reviews_max and reviews_max[name] < n_reviews:\n",
    "        reviews_max[name] = n_reviews\n",
    "    if name not in reviews_max:\n",
    "        reviews_max[name] = n_reviews\n",
    "print(len(reviews_max))\n",
    "\n",
    "        "
   ]
  },
  {
   "cell_type": "markdown",
   "id": "7149e3e7-506a-4f3d-98a2-b7cad4ec1c35",
   "metadata": {},
   "source": [
    "Next cell we select only the rows that contain the data values tha match tha values in the dictionary. "
   ]
  },
  {
   "cell_type": "code",
   "execution_count": 9,
   "id": "8fe8aa40-fcd8-40c9-9ff1-52d99b8dddf4",
   "metadata": {},
   "outputs": [
    {
     "name": "stdout",
     "output_type": "stream",
     "text": [
      "['Photo Editor & Candy Camera & Grid & ScrapBook', 'ART_AND_DESIGN', '4.1', '159', '19M', '10,000+', 'Free', '0', 'Everyone', 'Art & Design', '7-Jan-18', '1.0.0', '4.0.3 and up']\n",
      "\n",
      "\n",
      "['U Launcher Lite – FREE Live Cool Themes, Hide Apps', 'ART_AND_DESIGN', '4.7', '87510', '8.7M', '5,000,000+', 'Free', '0', 'Everyone', 'Art & Design', '1-Aug-18', '1.2.4', '4.0.3 and up']\n",
      "\n",
      "\n",
      "['Sketch - Draw & Paint', 'ART_AND_DESIGN', '4.5', '215644', '25M', '50,000,000+', 'Free', '0', 'Teen', 'Art & Design', '8-Jun-18', 'Varies with device', '4.2 and up']\n",
      "\n",
      "\n",
      "Number of rows: 9659\n",
      "Number of columns: 13\n"
     ]
    }
   ],
   "source": [
    "google_clean = []\n",
    "already_added = []\n",
    "\n",
    "for row in apps_google:\n",
    "    name = row[0]\n",
    "    n_reviews = float(row[3])\n",
    "    if n_reviews == reviews_max[name] and name not in already_added:\n",
    "        google_clean.append(row)\n",
    "        already_added.append(name)\n",
    "explore_data(google_clean, 0, 3, True)"
   ]
  },
  {
   "cell_type": "markdown",
   "id": "47adb501-a508-4c35-aa84-7bf5cb17b6a8",
   "metadata": {},
   "source": [
    "# Removed non-English apps\n",
    "\n",
    "The following code cell makes a function to test if the app name has at least 3 instances of  ASCII characters less than  or equal to 127. Everything else is non typical character. "
   ]
  },
  {
   "cell_type": "code",
   "execution_count": 10,
   "id": "71bfc3e6-91c1-4e43-b43f-ee8c640abd84",
   "metadata": {},
   "outputs": [],
   "source": [
    "def acs_127(input_string):\n",
    "    counter = 0\n",
    "    for character in input_string:\n",
    "        if ord(character) > 127:\n",
    "            counter += 1\n",
    "    if counter > 3:\n",
    "        return False\n",
    "    else:\n",
    "            return True"
   ]
  },
  {
   "cell_type": "code",
   "execution_count": 11,
   "id": "bc0cdc90-86e2-42d1-b51a-bf8e43e0b8ac",
   "metadata": {},
   "outputs": [
    {
     "name": "stdout",
     "output_type": "stream",
     "text": [
      "True\n",
      "True\n",
      "False\n",
      "True\n",
      "True\n"
     ]
    }
   ],
   "source": [
    "print(acs_127(apps_apple[814][1]))\n",
    "\n",
    "print(acs_127('Instagram'))\n",
    "print(acs_127('爱奇艺PPS -《欢乐颂2》电视剧热播'))\n",
    "print(acs_127('Docs To Go™ Free Office Suite'))\n",
    "print(acs_127('Instachat 😜'))"
   ]
  },
  {
   "cell_type": "code",
   "execution_count": 12,
   "id": "bcb85807-67c8-43c7-9bee-5aca5766e631",
   "metadata": {},
   "outputs": [
    {
     "name": "stdout",
     "output_type": "stream",
     "text": [
      "['284882215', 'Facebook', '389879808', 'USD', '0', '2974676', '212', '3.5', '3.5', '95', '4+', 'Social Networking', '37', '1', '29', '1']\n",
      "\n",
      "\n",
      "['389801252', 'Instagram', '113954816', 'USD', '0', '2161558', '1289', '4.5', '4', '10.23', '12+', 'Photo & Video', '37', '0', '29', '1']\n",
      "\n",
      "\n",
      "['529479190', 'Clash of Clans', '116476928', 'USD', '0', '2130805', '579', '4.5', '4.5', '9.24.12', '9+', 'Games', '38', '5', '18', '1']\n",
      "\n",
      "\n",
      "Number of rows: 7197\n",
      "Number of columns: 16\n",
      "['Photo Editor & Candy Camera & Grid & ScrapBook', 'ART_AND_DESIGN', '4.1', '159', '19M', '10,000+', 'Free', '0', 'Everyone', 'Art & Design', '7-Jan-18', '1.0.0', '4.0.3 and up']\n",
      "\n",
      "\n",
      "['U Launcher Lite – FREE Live Cool Themes, Hide Apps', 'ART_AND_DESIGN', '4.7', '87510', '8.7M', '5,000,000+', 'Free', '0', 'Everyone', 'Art & Design', '1-Aug-18', '1.2.4', '4.0.3 and up']\n",
      "\n",
      "\n",
      "['Sketch - Draw & Paint', 'ART_AND_DESIGN', '4.5', '215644', '25M', '50,000,000+', 'Free', '0', 'Teen', 'Art & Design', '8-Jun-18', 'Varies with device', '4.2 and up']\n",
      "\n",
      "\n",
      "Number of rows: 9614\n",
      "Number of columns: 13\n"
     ]
    }
   ],
   "source": [
    "apps_apple_eng = []\n",
    "apps_google_eng = []\n",
    "\n",
    "for row in apps_apple:\n",
    "    app_name = row[0]\n",
    "    if acs_127(app_name):\n",
    "        apps_apple_eng.append(row)\n",
    "\n",
    "for row in google_clean:\n",
    "    app_name = row[0]\n",
    "    if acs_127(app_name):\n",
    "        apps_google_eng.append(row)\n",
    "\n",
    "explore_data(apps_apple_eng, 0, 3, True)\n",
    "\n",
    "explore_data(apps_google_eng, 0, 3, True)"
   ]
  },
  {
   "cell_type": "markdown",
   "id": "92b52115-10cf-4924-b308-5692ace323b7",
   "metadata": {},
   "source": [
    "# Filter free apps"
   ]
  },
  {
   "cell_type": "code",
   "execution_count": 13,
   "id": "e6eb43b9-bb40-4f3f-8bdd-3b325aaddef2",
   "metadata": {},
   "outputs": [
    {
     "name": "stdout",
     "output_type": "stream",
     "text": [
      "Number of rows: 4056\n",
      "Number of columns: 16\n",
      "Number of rows: 8864\n",
      "Number of columns: 13\n"
     ]
    }
   ],
   "source": [
    "apps_apple_eng_free = []\n",
    "apps_google_eng_free = []\n",
    "\n",
    "for row in apps_apple_eng:\n",
    "    price = row[4]\n",
    "    if price == \"0\":\n",
    "        apps_apple_eng_free.append(row)\n",
    "\n",
    "for row in apps_google_eng:\n",
    "    price = row[7]\n",
    "    if price == \"0\":\n",
    "        apps_google_eng_free.append(row)\n",
    "\n",
    "explore_data(apps_apple_eng_free, 0, 0, True)\n",
    "\n",
    "explore_data(apps_google_eng_free, 0, 0, True)"
   ]
  },
  {
   "cell_type": "markdown",
   "id": "0f0d0ec3-459c-471e-af40-dd84fecd2fb1",
   "metadata": {},
   "source": [
    "# Most common apps by genre\n",
    "Our goal is to determine the kinds of apps that are likely to attract more users because the number of people using our apps affect our revenue.\r\n",
    "\r\n",
    "To minimize risks and overhead, our validation strategy for an app idea has three steps:1. \r\n",
    "\r\n",
    "Build a minimal Android version of the app, and add it to Google Pl2. ay.\r\n",
    "If the app has a good response from users, we develop it furt3. her.\r\n",
    "If the app is profitable after six months, we build an iOS version of the app and add it to the App \n",
    "\n",
    "tore.\r\n",
    "Because our end goal is to add the app on both Google Play and the App Store, we need to find app profiles that are successful in both markets. For instance, a profile that works well for both markets might be a productivity app that makes use of gamification."
   ]
  },
  {
   "cell_type": "code",
   "execution_count": 14,
   "id": "2bac65f4-7975-4331-8964-278bff6780e1",
   "metadata": {},
   "outputs": [
    {
     "name": "stdout",
     "output_type": "stream",
     "text": [
      "{'Social Networking': 3.5256410256410255, 'Photo & Video': 4.117357001972387, 'Games': 55.64595660749507, 'Music': 1.6518737672583828, 'Reference': 0.4930966469428008, 'Health & Fitness': 1.8737672583826428, 'Weather': 0.7642998027613412, 'Utilities': 2.687376725838264, 'Travel': 1.3806706114398422, 'Shopping': 2.983234714003945, 'News': 1.4299802761341223, 'Navigation': 0.4930966469428008, 'Lifestyle': 2.3175542406311638, 'Entertainment': 8.234714003944774, 'Food & Drink': 1.0601577909270217, 'Sports': 1.947731755424063, 'Book': 1.6272189349112427, 'Finance': 2.0710059171597637, 'Education': 3.2544378698224854, 'Productivity': 1.5285996055226825, 'Business': 0.4930966469428008, 'Catalogs': 0.22189349112426035, 'Medical': 0.19723865877712032}\n",
      "{'ART_AND_DESIGN': 0.6430505415162455, 'AUTO_AND_VEHICLES': 0.9250902527075812, 'BEAUTY': 0.5979241877256317, 'BOOKS_AND_REFERENCE': 2.1435018050541514, 'BUSINESS': 4.591606498194946, 'COMICS': 0.6204873646209386, 'COMMUNICATION': 3.2378158844765346, 'DATING': 1.861462093862816, 'EDUCATION': 1.1620036101083033, 'ENTERTAINMENT': 0.9589350180505415, 'EVENTS': 0.7107400722021661, 'FINANCE': 3.7003610108303246, 'FOOD_AND_DRINK': 1.2409747292418771, 'HEALTH_AND_FITNESS': 3.0798736462093865, 'HOUSE_AND_HOME': 0.8235559566787004, 'LIBRARIES_AND_DEMO': 0.9363718411552346, 'LIFESTYLE': 3.9034296028880866, 'GAME': 9.724729241877256, 'FAMILY': 18.907942238267147, 'MEDICAL': 3.531137184115524, 'SOCIAL': 2.6624548736462095, 'SHOPPING': 2.2450361010830324, 'PHOTOGRAPHY': 2.944494584837545, 'SPORTS': 3.395758122743682, 'TRAVEL_AND_LOCAL': 2.33528880866426, 'TOOLS': 8.461191335740072, 'PERSONALIZATION': 3.3167870036101084, 'PRODUCTIVITY': 3.892148014440433, 'PARENTING': 0.6543321299638989, 'WEATHER': 0.8009927797833934, 'VIDEO_PLAYERS': 1.7937725631768955, 'NEWS_AND_MAGAZINES': 2.7978339350180503, 'MAPS_AND_NAVIGATION': 1.3989169675090252}\n"
     ]
    }
   ],
   "source": [
    "def freq_table(df, index):\n",
    "    table = {}\n",
    "    total = 0\n",
    "    \n",
    "    for row in df:\n",
    "        total += 1\n",
    "        value = row[index]\n",
    "        if value in table:\n",
    "            table[value] += 1\n",
    "        else:\n",
    "            table[value] = 1\n",
    "    \n",
    "    table_percentages = {}\n",
    "    for key in table:\n",
    "        percentage = (table[key] / total) * 100\n",
    "        table_percentages[key] = percentage \n",
    "    \n",
    "    return table_percentages\n",
    "\n",
    "\n",
    "apple_app_category = freq_table(apps_apple_eng_free, 11)\n",
    "google_app_category = freq_table(apps_google_eng_free, 1)\n",
    "\n",
    "print(apple_app_category)\n",
    "print(google_app_category)"
   ]
  },
  {
   "cell_type": "code",
   "execution_count": 15,
   "id": "5a3be224-365f-435d-80da-d70de90a0eff",
   "metadata": {},
   "outputs": [
    {
     "name": "stdout",
     "output_type": "stream",
     "text": [
      "Games : 55.64595660749507\n",
      "Entertainment : 8.234714003944774\n",
      "Photo & Video : 4.117357001972387\n",
      "Social Networking : 3.5256410256410255\n",
      "Education : 3.2544378698224854\n",
      "Shopping : 2.983234714003945\n",
      "Utilities : 2.687376725838264\n",
      "Lifestyle : 2.3175542406311638\n",
      "Finance : 2.0710059171597637\n",
      "Sports : 1.947731755424063\n",
      "Health & Fitness : 1.8737672583826428\n",
      "Music : 1.6518737672583828\n",
      "Book : 1.6272189349112427\n",
      "Productivity : 1.5285996055226825\n",
      "News : 1.4299802761341223\n",
      "Travel : 1.3806706114398422\n",
      "Food & Drink : 1.0601577909270217\n",
      "Weather : 0.7642998027613412\n",
      "Reference : 0.4930966469428008\n",
      "Navigation : 0.4930966469428008\n",
      "Business : 0.4930966469428008\n",
      "Catalogs : 0.22189349112426035\n",
      "Medical : 0.19723865877712032\n",
      "\n",
      "\n",
      "FAMILY : 18.907942238267147\n",
      "GAME : 9.724729241877256\n",
      "TOOLS : 8.461191335740072\n",
      "BUSINESS : 4.591606498194946\n",
      "LIFESTYLE : 3.9034296028880866\n",
      "PRODUCTIVITY : 3.892148014440433\n",
      "FINANCE : 3.7003610108303246\n",
      "MEDICAL : 3.531137184115524\n",
      "SPORTS : 3.395758122743682\n",
      "PERSONALIZATION : 3.3167870036101084\n",
      "COMMUNICATION : 3.2378158844765346\n",
      "HEALTH_AND_FITNESS : 3.0798736462093865\n",
      "PHOTOGRAPHY : 2.944494584837545\n",
      "NEWS_AND_MAGAZINES : 2.7978339350180503\n",
      "SOCIAL : 2.6624548736462095\n",
      "TRAVEL_AND_LOCAL : 2.33528880866426\n",
      "SHOPPING : 2.2450361010830324\n",
      "BOOKS_AND_REFERENCE : 2.1435018050541514\n",
      "DATING : 1.861462093862816\n",
      "VIDEO_PLAYERS : 1.7937725631768955\n",
      "MAPS_AND_NAVIGATION : 1.3989169675090252\n",
      "FOOD_AND_DRINK : 1.2409747292418771\n",
      "EDUCATION : 1.1620036101083033\n",
      "ENTERTAINMENT : 0.9589350180505415\n",
      "LIBRARIES_AND_DEMO : 0.9363718411552346\n",
      "AUTO_AND_VEHICLES : 0.9250902527075812\n",
      "HOUSE_AND_HOME : 0.8235559566787004\n",
      "WEATHER : 0.8009927797833934\n",
      "EVENTS : 0.7107400722021661\n",
      "PARENTING : 0.6543321299638989\n",
      "ART_AND_DESIGN : 0.6430505415162455\n",
      "COMICS : 0.6204873646209386\n",
      "BEAUTY : 0.5979241877256317\n",
      "\n",
      "\n",
      "Tools : 8.449909747292418\n",
      "Entertainment : 6.069494584837545\n",
      "Education : 5.347472924187725\n",
      "Business : 4.591606498194946\n",
      "Productivity : 3.892148014440433\n",
      "Lifestyle : 3.892148014440433\n",
      "Finance : 3.7003610108303246\n",
      "Medical : 3.531137184115524\n",
      "Sports : 3.463447653429603\n",
      "Personalization : 3.3167870036101084\n",
      "Communication : 3.2378158844765346\n",
      "Action : 3.1024368231046933\n",
      "Health & Fitness : 3.0798736462093865\n",
      "Photography : 2.944494584837545\n",
      "News & Magazines : 2.7978339350180503\n",
      "Social : 2.6624548736462095\n",
      "Travel & Local : 2.3240072202166067\n",
      "Shopping : 2.2450361010830324\n",
      "Books & Reference : 2.1435018050541514\n",
      "Simulation : 2.0419675090252705\n",
      "Dating : 1.861462093862816\n",
      "Arcade : 1.8501805054151623\n",
      "Video Players & Editors : 1.7712093862815883\n",
      "Casual : 1.7599277978339352\n",
      "Maps & Navigation : 1.3989169675090252\n",
      "Food & Drink : 1.2409747292418771\n",
      "Puzzle : 1.128158844765343\n",
      "Racing : 0.9927797833935018\n",
      "Role Playing : 0.9363718411552346\n",
      "Libraries & Demo : 0.9363718411552346\n",
      "Auto & Vehicles : 0.9250902527075812\n",
      "Strategy : 0.9138086642599278\n",
      "House & Home : 0.8235559566787004\n",
      "Weather : 0.8009927797833934\n",
      "Events : 0.7107400722021661\n",
      "Adventure : 0.6768953068592057\n",
      "Comics : 0.6092057761732852\n",
      "Beauty : 0.5979241877256317\n",
      "Art & Design : 0.5979241877256317\n",
      "Parenting : 0.4963898916967509\n",
      "Card : 0.45126353790613716\n",
      "Casino : 0.42870036101083037\n",
      "Trivia : 0.41741877256317694\n",
      "Educational;Education : 0.39485559566787\n",
      "Board : 0.3835740072202166\n",
      "Educational : 0.3722924187725632\n",
      "Education;Education : 0.33844765342960287\n",
      "Word : 0.2594765342960289\n",
      "Casual;Pretend Play : 0.236913357400722\n",
      "Music : 0.2030685920577617\n",
      "Racing;Action & Adventure : 0.16922382671480143\n",
      "Puzzle;Brain Games : 0.16922382671480143\n",
      "Entertainment;Music & Video : 0.16922382671480143\n",
      "Casual;Brain Games : 0.13537906137184114\n",
      "Casual;Action & Adventure : 0.13537906137184114\n",
      "Arcade;Action & Adventure : 0.12409747292418773\n",
      "Action;Action & Adventure : 0.10153429602888085\n",
      "Educational;Pretend Play : 0.09025270758122744\n",
      "Simulation;Action & Adventure : 0.078971119133574\n",
      "Parenting;Education : 0.078971119133574\n",
      "Entertainment;Brain Games : 0.078971119133574\n",
      "Board;Brain Games : 0.078971119133574\n",
      "Parenting;Music & Video : 0.06768953068592057\n",
      "Educational;Brain Games : 0.06768953068592057\n",
      "Casual;Creativity : 0.06768953068592057\n",
      "Art & Design;Creativity : 0.06768953068592057\n",
      "Education;Pretend Play : 0.056407942238267145\n",
      "Role Playing;Pretend Play : 0.04512635379061372\n",
      "Education;Creativity : 0.04512635379061372\n",
      "Role Playing;Action & Adventure : 0.033844765342960284\n",
      "Puzzle;Action & Adventure : 0.033844765342960284\n",
      "Entertainment;Creativity : 0.033844765342960284\n",
      "Entertainment;Action & Adventure : 0.033844765342960284\n",
      "Educational;Creativity : 0.033844765342960284\n",
      "Educational;Action & Adventure : 0.033844765342960284\n",
      "Education;Music & Video : 0.033844765342960284\n",
      "Education;Brain Games : 0.033844765342960284\n",
      "Education;Action & Adventure : 0.033844765342960284\n",
      "Adventure;Action & Adventure : 0.033844765342960284\n",
      "Video Players & Editors;Music & Video : 0.02256317689530686\n",
      "Sports;Action & Adventure : 0.02256317689530686\n",
      "Simulation;Pretend Play : 0.02256317689530686\n",
      "Puzzle;Creativity : 0.02256317689530686\n",
      "Music;Music & Video : 0.02256317689530686\n",
      "Entertainment;Pretend Play : 0.02256317689530686\n",
      "Casual;Education : 0.02256317689530686\n",
      "Board;Action & Adventure : 0.02256317689530686\n",
      "Video Players & Editors;Creativity : 0.01128158844765343\n",
      "Trivia;Education : 0.01128158844765343\n",
      "Travel & Local;Action & Adventure : 0.01128158844765343\n",
      "Tools;Education : 0.01128158844765343\n",
      "Strategy;Education : 0.01128158844765343\n",
      "Strategy;Creativity : 0.01128158844765343\n",
      "Strategy;Action & Adventure : 0.01128158844765343\n",
      "Simulation;Education : 0.01128158844765343\n",
      "Role Playing;Brain Games : 0.01128158844765343\n",
      "Racing;Pretend Play : 0.01128158844765343\n",
      "Puzzle;Education : 0.01128158844765343\n",
      "Parenting;Brain Games : 0.01128158844765343\n",
      "Music & Audio;Music & Video : 0.01128158844765343\n",
      "Lifestyle;Pretend Play : 0.01128158844765343\n",
      "Lifestyle;Education : 0.01128158844765343\n",
      "Health & Fitness;Education : 0.01128158844765343\n",
      "Health & Fitness;Action & Adventure : 0.01128158844765343\n",
      "Entertainment;Education : 0.01128158844765343\n",
      "Communication;Creativity : 0.01128158844765343\n",
      "Comics;Creativity : 0.01128158844765343\n",
      "Casual;Music & Video : 0.01128158844765343\n",
      "Card;Action & Adventure : 0.01128158844765343\n",
      "Books & Reference;Education : 0.01128158844765343\n",
      "Art & Design;Pretend Play : 0.01128158844765343\n",
      "Art & Design;Action & Adventure : 0.01128158844765343\n",
      "Arcade;Pretend Play : 0.01128158844765343\n",
      "Adventure;Education : 0.01128158844765343\n"
     ]
    }
   ],
   "source": [
    "def display_table(df, index):\n",
    "    table = freq_table(df, index)\n",
    "    table_display = []\n",
    "    for key in table:\n",
    "        key_val_as_tuple = (table[key], key)\n",
    "        table_display.append(key_val_as_tuple)\n",
    "        \n",
    "    table_sorted = sorted(table_display, reverse = True)\n",
    "    for entry in table_sorted:\n",
    "        print(entry[1], ':', entry[0])\n",
    "\n",
    "display_table(apps_apple_eng_free, 11)\n",
    "print(\"\\n\")\n",
    "display_table(apps_google_eng_free, 1)\n",
    "print(\"\\n\")\n",
    "display_table(apps_google_eng_free, -4)"
   ]
  },
  {
   "cell_type": "markdown",
   "id": "fa87aabc-ab2f-44b1-aa32-80080dde44c2",
   "metadata": {},
   "source": [
    "# Most Popular Apps by Genre on the App Store\n"
   ]
  },
  {
   "cell_type": "code",
   "execution_count": 16,
   "id": "e84c52a0-1051-4113-af74-0cee3d174d84",
   "metadata": {},
   "outputs": [
    {
     "name": "stdout",
     "output_type": "stream",
     "text": [
      "Social Networking 7590182.0  :  53078.195804195806\n",
      "Photo & Video 4550732.0  :  27249.892215568863\n",
      "Games 42713023.0  :  18924.68896765618\n",
      "Music 3784296.0  :  56482.02985074627\n",
      "Reference 1348958.0  :  67447.9\n",
      "Health & Fitness 1516376.0  :  19952.315789473683\n",
      "Weather 1463849.0  :  47220.93548387097\n",
      "Utilities 1527101.0  :  14010.100917431193\n",
      "Travel 1132097.0  :  20216.01785714286\n",
      "Shopping 2268348.0  :  18746.677685950413\n",
      "News 921778.0  :  15892.724137931034\n",
      "Navigation 519441.0  :  25972.05\n",
      "Lifestyle 843961.0  :  8978.308510638299\n",
      "Entertainment 3614869.0  :  10822.961077844311\n",
      "Food & Drink 867701.0  :  20179.093023255813\n",
      "Sports 1590189.0  :  20128.974683544304\n",
      "Book 560890.0  :  8498.333333333334\n",
      "Finance 1135870.0  :  13522.261904761905\n",
      "Education 827156.0  :  6266.333333333333\n",
      "Productivity 1181341.0  :  19053.887096774193\n",
      "Business 127356.0  :  6367.8\n",
      "Catalogs 16016.0  :  1779.5555555555557\n",
      "Medical 3678.0  :  459.75\n"
     ]
    }
   ],
   "source": [
    "for genre in apple_app_category:\n",
    "    total = 0 \n",
    "    len_genre = 0\n",
    "    for row in apps_apple_eng_free:\n",
    "        genre_app = row[11]\n",
    "        if genre_app == genre:\n",
    "            user_rating = row[5]\n",
    "            total += float(user_rating)\n",
    "            len_genre += 1\n",
    "    average_user_rating = total / len_genre\n",
    "    print(genre, total, \" : \", average_user_rating)"
   ]
  },
  {
   "cell_type": "markdown",
   "id": "08584939-7cfe-4a0e-9904-d5cdd72dd979",
   "metadata": {},
   "source": [
    "Profile recommendation will require us to sort this data. WIll tackle later. "
   ]
  },
  {
   "cell_type": "code",
   "execution_count": 18,
   "id": "2607524e-e5a5-4dd1-8e9a-298c5e37dec6",
   "metadata": {},
   "outputs": [
    {
     "name": "stdout",
     "output_type": "stream",
     "text": [
      "['App', 'Category', 'Rating', 'Reviews', 'Size', 'Installs', 'Type', 'Price', 'Content Rating', 'Genres', 'Last Updated', 'Current Ver', 'Android Ver']\n"
     ]
    }
   ],
   "source": [
    "print(header_google)\n"
   ]
  },
  {
   "cell_type": "code",
   "execution_count": 32,
   "id": "b951862c-28f0-4c14-a911-43e2df9ca18d",
   "metadata": {},
   "outputs": [
    {
     "name": "stdout",
     "output_type": "stream",
     "text": [
      "{'ART_AND_DESIGN': 1986335.0877192982, 'AUTO_AND_VEHICLES': 647317.8170731707, 'BEAUTY': 513151.88679245283, 'BOOKS_AND_REFERENCE': 8767811.894736841, 'BUSINESS': 1712290.1474201474, 'COMICS': 817657.2727272727, 'COMMUNICATION': 38456119.167247385, 'DATING': 854028.8303030303, 'EDUCATION': 1833495.145631068, 'ENTERTAINMENT': 11640705.88235294, 'EVENTS': 253542.22222222222, 'FINANCE': 1387692.475609756, 'FOOD_AND_DRINK': 1924897.7363636363, 'HEALTH_AND_FITNESS': 4188821.9853479853, 'HOUSE_AND_HOME': 1331540.5616438356, 'LIBRARIES_AND_DEMO': 638503.734939759, 'LIFESTYLE': 1437816.2687861272, 'GAME': 15588015.603248259, 'FAMILY': 3695641.8198090694, 'MEDICAL': 120550.61980830671, 'SOCIAL': 23253652.127118643, 'SHOPPING': 7036877.311557789, 'PHOTOGRAPHY': 17840110.40229885, 'SPORTS': 3638640.1428571427, 'TRAVEL_AND_LOCAL': 13984077.710144928, 'TOOLS': 10801391.298666667, 'PERSONALIZATION': 5201482.6122448975, 'PRODUCTIVITY': 16787331.344927534, 'PARENTING': 542603.6206896552, 'WEATHER': 5074486.197183099, 'VIDEO_PLAYERS': 24727872.452830188, 'NEWS_AND_MAGAZINES': 9549178.467741935, 'MAPS_AND_NAVIGATION': 4056941.7741935486}\n"
     ]
    }
   ],
   "source": [
    "# print(display_table(apps_google_eng_free, 1))\n",
    "google_category_installs = {}\n",
    "for category in google_app_category:\n",
    "    total = 0\n",
    "    len_category = 0\n",
    "    \n",
    "    for row in apps_google_eng_free:\n",
    "        category_app = row[1]\n",
    "        if category_app == category:\n",
    "            installs = row[5]\n",
    "            installs = installs.replace(\"+\", \"\")\n",
    "            installs = installs.replace(\",\", \"\")\n",
    "            installs = float(installs)\n",
    "            total += installs\n",
    "            len_category += 1\n",
    "\n",
    "    avg_installs = total / len_category\n",
    "    google_category_installs[category] = avg_installs\n",
    "print(google_category_installs)\n",
    "           "
   ]
  },
  {
   "cell_type": "code",
   "execution_count": null,
   "id": "6019fab7-12c8-4608-8b2c-72c5cc748631",
   "metadata": {},
   "outputs": [],
   "source": []
  },
  {
   "cell_type": "code",
   "execution_count": null,
   "id": "4cb3975e-14fc-4086-8390-16662048be83",
   "metadata": {},
   "outputs": [],
   "source": []
  }
 ],
 "metadata": {
  "kernelspec": {
   "display_name": "Python 3 (ipykernel)",
   "language": "python",
   "name": "python3"
  },
  "language_info": {
   "codemirror_mode": {
    "name": "ipython",
    "version": 3
   },
   "file_extension": ".py",
   "mimetype": "text/x-python",
   "name": "python",
   "nbconvert_exporter": "python",
   "pygments_lexer": "ipython3",
   "version": "3.11.7"
  }
 },
 "nbformat": 4,
 "nbformat_minor": 5
}
