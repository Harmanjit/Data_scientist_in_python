{
 "cells": [
  {
   "cell_type": "code",
   "execution_count": null,
   "id": "9f611fbc-9d6a-4318-9843-e38404c4b07a",
   "metadata": {},
   "outputs": [],
   "source": [
    "from Bio import SeqIO\n",
    "import subprocess"
   ]
  },
  {
   "cell_type": "code",
   "execution_count": null,
   "id": "2613ae83-6214-408c-a0b9-5a493c293de4",
   "metadata": {},
   "outputs": [],
   "source": [
    "def run_spades(input_fastq, output_dir):\n",
    "    \"\"\"Run SPAdes assembler.\"\"\"\n",
    "    command = f\"SPAdes/bin/spades.py -s {input_fastq} -o {output_dir}\"\n",
    "    subprocess.run(command, shell=True, check=True)\n",
    "\n",
    "def extract_contigs(contigs_file, output_fasta):\n",
    "    \"\"\"Extract contigs and save to a FASTA file.\"\"\"\n",
    "    sequences = SeqIO.parse(contigs_file, \"fasta\")\n",
    "    SeqIO.write(sequences, output_fasta, \"fasta\")"
   ]
  },
  {
   "cell_type": "code",
   "execution_count": null,
   "id": "438a0ac8-2bf0-4dff-ac27-ceab719720c6",
   "metadata": {},
   "outputs": [],
   "source": []
  },
  {
   "cell_type": "code",
   "execution_count": null,
   "id": "4a80ee70-4a25-4b6a-a14b-f3856ef334d0",
   "metadata": {},
   "outputs": [],
   "source": [
    "input_fastq = \"raw_data/Whole_plasmid_sequencing/2-11.fastq\"\n",
    "output_dir = \"output/FASTA/2-11.fasta\"\n",
    "contigs_file = f\"{output_dir}/contigs.fasta\"\n",
    "output_fasta = \"assembled_contigs.fasta\""
   ]
  },
  {
   "cell_type": "code",
   "execution_count": null,
   "id": "0280618a-2fa2-454c-ba2d-b83457c18647",
   "metadata": {},
   "outputs": [],
   "source": [
    "run_spades(input_fastq, output_dir)"
   ]
  },
  {
   "cell_type": "code",
   "execution_count": null,
   "id": "ccde0332-dea9-49d4-b713-37f3151c0a68",
   "metadata": {},
   "outputs": [],
   "source": [
    "extract_contigs(contigs_file, output_fasta)"
   ]
  },
  {
   "cell_type": "code",
   "execution_count": null,
   "id": "90988508-9b6a-4e0b-bb56-21b63bd07a12",
   "metadata": {},
   "outputs": [],
   "source": [
    "input_fastq = \"raw_data/Whole_plasmid_sequencing/2-7.fastq\"\n",
    "output_dir = \"output/FASTA/2-7.fasta\"\n",
    "contigs_file = f\"{output_dir}/contigs.fasta\"\n",
    "output_fasta = \"assembled_contigs_2-7.fasta\"\n",
    "run_spades(input_fastq, output_dir)\n",
    "extract_contigs(contigs_file, output_fasta)"
   ]
  },
  {
   "cell_type": "code",
   "execution_count": null,
   "id": "d85f159d-a7c1-4c7d-823c-82f286c0f7c9",
   "metadata": {},
   "outputs": [],
   "source": [
    "print(f\"Assembled contigs have been saved to {output_fasta}\")"
   ]
  },
  {
   "cell_type": "code",
   "execution_count": null,
   "id": "a76a9a20-101d-4005-bada-607e26907ef0",
   "metadata": {},
   "outputs": [],
   "source": [
    "input_fastq = \"raw_data/Whole_plasmid_sequencing/8-9.fastq\"\n",
    "output_dir = \"output/FASTA/8-9.fasta\"\n",
    "contigs_file = f\"{output_dir}/contigs.fasta\"\n",
    "output_fasta = \"assembled_contigs_8-9.fasta\"\n",
    "run_spades(input_fastq, output_dir)\n",
    "extract_contigs(contigs_file, output_fasta)"
   ]
  },
  {
   "cell_type": "code",
   "execution_count": null,
   "id": "0ff4818e-36e1-48f2-9e14-021c73c07ad2",
   "metadata": {},
   "outputs": [],
   "source": [
    "input_fastq = \"raw_data/Whole_plasmid_sequencing/8-10.fastq\"\n",
    "output_dir = \"output/FASTA/8-10.fasta\"\n",
    "contigs_file = f\"{output_dir}/contigs.fasta\"\n",
    "output_fasta = \"assembled_contigs_8-10.fasta\"\n",
    "run_spades(input_fastq, output_dir)\n",
    "extract_contigs(contigs_file, output_fasta)"
   ]
  },
  {
   "cell_type": "code",
   "execution_count": null,
   "id": "9f27e7ed-d195-4950-a7b2-f8223ed92357",
   "metadata": {},
   "outputs": [],
   "source": [
    "input_fastq = \"raw_data/Whole_plasmid_sequencing/2-13.fastq\"\n",
    "output_dir = \"output/FASTA/2-13.fasta\"\n",
    "contigs_file = f\"{output_dir}/contigs.fasta\"\n",
    "output_fasta = \"assembled_contigs_2-13.fasta\"\n",
    "run_spades(input_fastq, output_dir)\n",
    "extract_contigs(contigs_file, output_fasta)"
   ]
  },
  {
   "cell_type": "code",
   "execution_count": null,
   "id": "0761ae4d-e9c7-4d17-92c2-cb2d0897aeac",
   "metadata": {},
   "outputs": [],
   "source": []
  },
  {
   "cell_type": "code",
   "execution_count": null,
   "id": "24245f91-dc3a-495a-b92b-faf2517216c0",
   "metadata": {},
   "outputs": [],
   "source": [
    "#input_fastq = \"raw_data/Whole_plasmid_sequencing/2-11.fastq\"\n",
    "#sequences = SeqIO.parse(input_fastq, \"fastq\")"
   ]
  },
  {
   "cell_type": "code",
   "execution_count": null,
   "id": "f8270506-cc63-489d-bcf6-9edf38cf138e",
   "metadata": {},
   "outputs": [],
   "source": [
    "#output_fasta = \"output/FASTA/2-11.fasta\"\n",
    "#count = SeqIO.write(sequences, output_fasta, \"fasta\")\n",
    "#print(f\"Converted {count} sequences\")"
   ]
  },
  {
   "cell_type": "code",
   "execution_count": null,
   "id": "4c35a587-b31f-4ace-86ff-4277b5e0fb62",
   "metadata": {},
   "outputs": [],
   "source": []
  },
  {
   "cell_type": "code",
   "execution_count": null,
   "id": "fa4042cb-374a-4ebf-b7d7-964d1f8f71a2",
   "metadata": {},
   "outputs": [],
   "source": []
  },
  {
   "cell_type": "code",
   "execution_count": null,
   "id": "126f8c8f-617b-4225-95c0-92633958878b",
   "metadata": {},
   "outputs": [],
   "source": []
  },
  {
   "cell_type": "code",
   "execution_count": null,
   "id": "9ad79616-fb09-4c30-ad45-68073f41391f",
   "metadata": {},
   "outputs": [],
   "source": []
  }
 ],
 "metadata": {
  "kernelspec": {
   "display_name": "Python 3 (ipykernel)",
   "language": "python",
   "name": "python3"
  },
  "language_info": {
   "codemirror_mode": {
    "name": "ipython",
    "version": 3
   },
   "file_extension": ".py",
   "mimetype": "text/x-python",
   "name": "python",
   "nbconvert_exporter": "python",
   "pygments_lexer": "ipython3",
   "version": "3.12.7"
  }
 },
 "nbformat": 4,
 "nbformat_minor": 5
}
